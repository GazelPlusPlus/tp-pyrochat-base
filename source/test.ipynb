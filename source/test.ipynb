{
 "cells": [
  {
   "cell_type": "code",
   "execution_count": 25,
   "metadata": {},
   "outputs": [
    {
     "name": "stdout",
     "output_type": "stream",
     "text": [
      "127.0.0.1\n",
      "6666\n",
      "foo\n",
      "\n"
     ]
    }
   ],
   "source": [
    "DEFAULT_VALUES = {\n",
    "    \"host\" : [\"127.0.0.1\", False],\n",
    "    \"port\" : [\"6666\", False],\n",
    "    \"name\" : [\"foo\", False],\n",
    "    \"password\": [\"\", True]\n",
    "}\n",
    "\n",
    "for k in DEFAULT_VALUES.values():\n",
    "    print()"
   ]
  },
  {
   "cell_type": "code",
   "execution_count": 47,
   "metadata": {},
   "outputs": [
    {
     "name": "stdout",
     "output_type": "stream",
     "text": [
      "b'gAAAAABlJXuKnheULNKZ4wre8rYMNv_EDH5KTi-RjBRygnP5QYWZOHg8-HoQdEJ53chp1T-sSL8qk_6uM-jY39a7mdW3pjRCUw=='\n",
      "b'Secret message!'\n"
     ]
    }
   ],
   "source": [
    "import base64\n",
    "import os\n",
    "from cryptography.fernet import Fernet\n",
    "from cryptography.hazmat.primitives import hashes\n",
    "from cryptography.hazmat.primitives.kdf.pbkdf2 import PBKDF2HMAC\n",
    "\n",
    "password = b\"test\"\n",
    "salt = os.urandom(16)\n",
    "kdf = PBKDF2HMAC(\n",
    "    algorithm=hashes.SHA256(),\n",
    "    length=32,\n",
    "    salt=salt,\n",
    "    iterations=480000,\n",
    ")\n",
    "key = base64.urlsafe_b64encode(kdf.derive(password))\n",
    "f = Fernet(key)\n",
    "token = f.encrypt(b\"Secret message!\")\n",
    "print(token)\n",
    "print(f.decrypt(token))"
   ]
  }
 ],
 "metadata": {
  "kernelspec": {
   "display_name": "Python 3",
   "language": "python",
   "name": "python3"
  },
  "language_info": {
   "codemirror_mode": {
    "name": "ipython",
    "version": 3
   },
   "file_extension": ".py",
   "mimetype": "text/x-python",
   "name": "python",
   "nbconvert_exporter": "python",
   "pygments_lexer": "ipython3",
   "version": "3.10.12"
  },
  "orig_nbformat": 4
 },
 "nbformat": 4,
 "nbformat_minor": 2
}
